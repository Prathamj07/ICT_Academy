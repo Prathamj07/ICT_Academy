{
 "cells": [
  {
   "cell_type": "markdown",
   "id": "9a083f50",
   "metadata": {},
   "source": [
    "OOPS\n",
    "\n",
    "- class\n",
    "- objects\n",
    "\n",
    "-ABSTRACTION \n",
    "-ENCAPSULATION (make a blueprint by combining (Encapsulating) all properties)\n",
    "-INHERITENCE \n",
    "-POLYMORPHISM (same method diff ways to use)\n"
   ]
  },
  {
   "cell_type": "code",
   "execution_count": 5,
   "id": "1bcdb4df",
   "metadata": {},
   "outputs": [
    {
     "name": "stdout",
     "output_type": "stream",
     "text": [
      "XY\n"
     ]
    }
   ],
   "source": [
    "class class1:\n",
    "    def __init__(self):\n",
    "        pass\n",
    "    id=10\n",
    "    name =\"XY\"\n",
    "    \n",
    "obj = class1()\n",
    "\n",
    "class class2(class1): # Encapsulation (extended the class)\n",
    "    add = \"QWERTY\"\n",
    "    \n",
    "obj = class2()\n",
    "\n",
    "print(obj.name)\n",
    "\n"
   ]
  },
  {
   "cell_type": "code",
   "execution_count": 6,
   "id": "27712a67",
   "metadata": {},
   "outputs": [
    {
     "name": "stdout",
     "output_type": "stream",
     "text": [
      "Goat\n",
      "4\n"
     ]
    }
   ],
   "source": [
    "class animal:\n",
    "    def __init__(self):\n",
    "        pass\n",
    "    leg =4\n",
    "    \n",
    "obj = animal()\n",
    "\n",
    "class carnivore(animal):\n",
    "    def __init__(self):\n",
    "        pass\n",
    "    food = \"animal\"\n",
    "    \n",
    "class tiger(carnivore):\n",
    "    def __init__(self):\n",
    "        pass\n",
    "    food = \"Goat\"\n",
    "    \n",
    "obj1 = tiger()\n",
    "\n",
    "print(obj1.food)\n",
    "print(obj1.leg)\n",
    "  "
   ]
  },
  {
   "cell_type": "code",
   "execution_count": 7,
   "id": "ea2b6fdd",
   "metadata": {},
   "outputs": [
    {
     "name": "stdout",
     "output_type": "stream",
     "text": [
      "XY\n",
      "__module__\n",
      "__firstlineno__\n",
      "id\n",
      "name\n",
      "__static_attributes__\n",
      "__dict__\n",
      "__weakref__\n",
      "__doc__\n"
     ]
    }
   ],
   "source": [
    "class class1:\n",
    "    id=10\n",
    "    name =\"XY\"\n",
    "    \n",
    "obj = class1()\n",
    "print(class1.name)\n",
    "\n",
    "for name in class1.__dict__:\n",
    "    print(name)\n",
    "\n"
   ]
  },
  {
   "cell_type": "code",
   "execution_count": 8,
   "id": "38a97919",
   "metadata": {},
   "outputs": [
    {
     "name": "stdout",
     "output_type": "stream",
     "text": [
      "{'leg': 4, 'sound': 'MOW'}\n"
     ]
    }
   ],
   "source": [
    "class animal:\n",
    "    def __init__(self, leg, sound):\n",
    "        self.leg = leg\n",
    "        self.sound = sound\n",
    "    \n",
    "dog = animal(4,\"MOW\")\n",
    "print(dog.__dict__)\n",
    "    "
   ]
  },
  {
   "cell_type": "code",
   "execution_count": 9,
   "id": "8489b48e",
   "metadata": {},
   "outputs": [
    {
     "name": "stdout",
     "output_type": "stream",
     "text": [
      "Help on built-in function pow in module math:\n",
      "\n",
      "pow(x, y, /)\n",
      "    Return x**y (x to the power of y).\n",
      "\n",
      "25.0\n"
     ]
    }
   ],
   "source": [
    "import math\n",
    "help(math.pow)\n",
    "print(math.pow(5,2))"
   ]
  },
  {
   "cell_type": "code",
   "execution_count": 13,
   "id": "db680a05",
   "metadata": {},
   "outputs": [],
   "source": [
    "class Student:\n",
    "    def __init__(self, roll, name, section):\n",
    "        self.roll = roll\n",
    "        self.name = name\n",
    "        self.section = section\n",
    "roll= int(input(\"Enter roll number\"))\n",
    "name = input(\"Enter name of student\")\n",
    "section = input(\"Enter the section\")\n",
    "\n",
    "obj = Student(roll, name, section)\n",
    "\n",
    "    "
   ]
  },
  {
   "cell_type": "code",
   "execution_count": 8,
   "id": "f1e666ad",
   "metadata": {},
   "outputs": [
    {
     "name": "stdout",
     "output_type": "stream",
     "text": [
      "<class 'type'>\n",
      "dict_keys(['__module__', '__firstlineno__', '__static_attributes__', '__dict__', '__weakref__', '__doc__'])\n",
      "__main__\n"
     ]
    }
   ],
   "source": [
    "class Student:\n",
    "    pass  \n",
    "print(type(Student))\n",
    "print(Student.__dict__.keys())\n",
    "print(Student.__module__)"
   ]
  },
  {
   "cell_type": "code",
   "execution_count": 16,
   "id": "65fafb89",
   "metadata": {},
   "outputs": [
    {
     "name": "stdout",
     "output_type": "stream",
     "text": [
      "False\n",
      "True\n",
      "True\n"
     ]
    }
   ],
   "source": [
    "class animal:\n",
    "    pass\n",
    "class dog:\n",
    "    pass\n",
    "\n",
    "class cow(animal):\n",
    "    pass\n",
    "\n",
    "dog1= dog()\n",
    "dog2 = dog()\n",
    "cow1 = cow()\n",
    "\n",
    "print(isinstance(dog1, animal))\n",
    "print(isinstance(dog1, dog))\n",
    "print(isinstance(cow1, animal))\n"
   ]
  },
  {
   "cell_type": "code",
   "execution_count": 2,
   "id": "87ce4f05",
   "metadata": {},
   "outputs": [
    {
     "name": "stdout",
     "output_type": "stream",
     "text": [
      "Student Name: Pratham\n"
     ]
    }
   ],
   "source": [
    "class x:\n",
    "    name = \"Pratham\"\n",
    "    section = 5\n",
    "print(f\"Student Name: {getattr(x, 'name')}\")"
   ]
  },
  {
   "cell_type": "markdown",
   "id": "11055f05",
   "metadata": {},
   "source": [
    "## GENERATOR\n",
    "    - Instead of return it yields the value\n",
    "    - Can run multiple times until the condition is satisfied"
   ]
  },
  {
   "cell_type": "code",
   "execution_count": 30,
   "id": "18cc3343",
   "metadata": {},
   "outputs": [
    {
     "name": "stdout",
     "output_type": "stream",
     "text": [
      "0\n",
      "1\n",
      "2\n",
      "3\n",
      "4\n",
      "5\n"
     ]
    }
   ],
   "source": [
    "## GENERATOR\n",
    "def fun(a):\n",
    "    i=0\n",
    "    while(i<=a):\n",
    "        yield i\n",
    "        i+=1\n",
    "\n",
    "for i in fun(5):\n",
    "    print(i)"
   ]
  },
  {
   "cell_type": "code",
   "execution_count": 31,
   "id": "92ba2aee",
   "metadata": {},
   "outputs": [
    {
     "name": "stdout",
     "output_type": "stream",
     "text": [
      "5\n",
      "10\n",
      "15\n",
      "20\n",
      "25\n",
      "30\n",
      "35\n",
      "40\n",
      "45\n",
      "50\n"
     ]
    }
   ],
   "source": [
    "def table(a):\n",
    "    for i in range(1,11):\n",
    "        yield i*a\n",
    "    \n",
    "for i in table(5):\n",
    "    print(i)"
   ]
  },
  {
   "cell_type": "code",
   "execution_count": 36,
   "id": "51696c20",
   "metadata": {},
   "outputs": [
    {
     "name": "stdout",
     "output_type": "stream",
     "text": [
      "0\n",
      "1\n",
      "3\n",
      "6\n",
      "10\n"
     ]
    }
   ],
   "source": [
    "def sumall(a):\n",
    "    sum=0\n",
    "    for i in range(a):\n",
    "        sum+=i\n",
    "        yield sum\n",
    "    \n",
    "\n",
    "for i in sumall(5):\n",
    "    print(i)"
   ]
  },
  {
   "cell_type": "code",
   "execution_count": 49,
   "id": "93f95fdb",
   "metadata": {},
   "outputs": [
    {
     "name": "stdout",
     "output_type": "stream",
     "text": [
      "P      R      A      T      H      A      M      "
     ]
    }
   ],
   "source": [
    "def strings(a):\n",
    "    for ch in a:\n",
    "        yield ch+\"     \"\n",
    "        \n",
    "for i in strings(\"PRATHAM\"):\n",
    "    print(i,end=\" \")"
   ]
  },
  {
   "cell_type": "code",
   "execution_count": 44,
   "id": "b25a2284",
   "metadata": {},
   "outputs": [
    {
     "name": "stdout",
     "output_type": "stream",
     "text": [
      "0\n",
      "2\n",
      "4\n",
      "6\n",
      "8\n"
     ]
    }
   ],
   "source": [
    "def even(n):\n",
    "    for i in range(n):\n",
    "        yield i * 2\n",
    "\n",
    "for num in even(5):\n",
    "    print(num)"
   ]
  },
  {
   "cell_type": "code",
   "execution_count": 52,
   "id": "9300bd69",
   "metadata": {},
   "outputs": [
    {
     "name": "stdout",
     "output_type": "stream",
     "text": [
      "Calling multiply_numbers with args: (10, 20), kwargs: {}\n",
      "multiply_numbers returned: 200\n",
      "Result: 200\n",
      "Calling addition with args: (), kwargs: {'x': 50, 'y': 20}\n",
      "addition returned: 70\n",
      "70\n"
     ]
    }
   ],
   "source": [
    "def decorator(func):\n",
    "    def wrap(*args, **kwargs):\n",
    "        # Log the function name and arguments\n",
    "        print(f\"Calling {func.__name__} with args: {args}, kwargs: {kwargs}\")\n",
    "        \n",
    "        # Call the original function\n",
    "        result = func(*args, **kwargs)\n",
    "        \n",
    "        # Log the return value\n",
    "        print(f\"{func.__name__} returned: {result}\")\n",
    "        \n",
    "        # Return the result\n",
    "        return result\n",
    "    return wrap\n",
    "\n",
    "# Example usage\n",
    "@decorator\n",
    "def multiply_numbers(x, y):\n",
    "    return x * y\n",
    "\n",
    "# Call the decorated function\n",
    "result = multiply_numbers(10, 20)\n",
    "print(\"Result:\", result)\n",
    "\n",
    "@decorator\n",
    "def addition(x,y):\n",
    "    return x+y\n",
    "result= addition(x =50,y= 20)\n",
    "print(result)"
   ]
  },
  {
   "cell_type": "code",
   "execution_count": null,
   "id": "d105c953",
   "metadata": {},
   "outputs": [],
   "source": []
  },
  {
   "cell_type": "code",
   "execution_count": null,
   "id": "ab9d576c",
   "metadata": {},
   "outputs": [],
   "source": []
  },
  {
   "cell_type": "code",
   "execution_count": null,
   "id": "447c3b90",
   "metadata": {},
   "outputs": [],
   "source": []
  },
  {
   "cell_type": "code",
   "execution_count": null,
   "id": "972e7cf8",
   "metadata": {},
   "outputs": [],
   "source": []
  }
 ],
 "metadata": {
  "kernelspec": {
   "display_name": "Python 3",
   "language": "python",
   "name": "python3"
  },
  "language_info": {
   "codemirror_mode": {
    "name": "ipython",
    "version": 3
   },
   "file_extension": ".py",
   "mimetype": "text/x-python",
   "name": "python",
   "nbconvert_exporter": "python",
   "pygments_lexer": "ipython3",
   "version": "3.13.1"
  }
 },
 "nbformat": 4,
 "nbformat_minor": 5
}
