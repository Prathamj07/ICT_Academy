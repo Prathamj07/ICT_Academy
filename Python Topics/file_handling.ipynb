{
 "cells": [
  {
   "cell_type": "code",
   "execution_count": null,
   "id": "cbca2fe1",
   "metadata": {},
   "outputs": [],
   "source": []
  },
  {
   "cell_type": "code",
   "execution_count": null,
   "id": "10aecc9b",
   "metadata": {},
   "outputs": [
    {
     "name": "stdout",
     "output_type": "stream",
     "text": [
      "['hello\\n', 'hello\\n', 'hello\\n', 'hello\\n', 'hello\\n', 'hello\\n', 'hello\\n', 'hello']\n"
     ]
    }
   ],
   "source": [
    "# with open(\"abc.txt\", 'r') as var:\n",
    "#     line = var.readlines()\n",
    "#     print(line)\n"
   ]
  },
  {
   "cell_type": "code",
   "execution_count": 41,
   "id": "275e3dd5",
   "metadata": {},
   "outputs": [],
   "source": [
    "with open(\"abc.txt\", 'a') as var1:\n",
    "\n",
    "    var1.write(\"\\nPRATHAM\")\n",
    "    \n"
   ]
  }
 ],
 "metadata": {
  "kernelspec": {
   "display_name": "Python 3",
   "language": "python",
   "name": "python3"
  },
  "language_info": {
   "codemirror_mode": {
    "name": "ipython",
    "version": 3
   },
   "file_extension": ".py",
   "mimetype": "text/x-python",
   "name": "python",
   "nbconvert_exporter": "python",
   "pygments_lexer": "ipython3",
   "version": "3.13.1"
  }
 },
 "nbformat": 4,
 "nbformat_minor": 5
}
