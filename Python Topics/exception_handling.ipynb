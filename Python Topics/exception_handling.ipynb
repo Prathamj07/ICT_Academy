{
 "cells": [
  {
   "cell_type": "code",
   "execution_count": 2,
   "id": "5734f65f",
   "metadata": {},
   "outputs": [
    {
     "name": "stdout",
     "output_type": "stream",
     "text": [
      "Can not divide with zero = \n"
     ]
    }
   ],
   "source": [
    "try: \n",
    "    x= int(input(\"Enter a number = \"))\n",
    "    y= int(input(\"Enter another number = \"))\n",
    "    result = x/y\n",
    "    print(result)\n",
    "except ZeroDivisionError:\n",
    "    print(\"Can not divide with zero = \")\n"
   ]
  },
  {
   "cell_type": "code",
   "execution_count": 11,
   "id": "48f2588d",
   "metadata": {},
   "outputs": [
    {
     "name": "stdout",
     "output_type": "stream",
     "text": [
      "Invalid Value!\n"
     ]
    }
   ],
   "source": [
    "try: \n",
    "    i = int(input(\"Enter an integer value\"))\n",
    "    print(\"Your given value is \",i)\n",
    "except ValueError:\n",
    "    print(\"Invalid Value!\")"
   ]
  },
  {
   "cell_type": "code",
   "execution_count": 17,
   "id": "f4870226",
   "metadata": {},
   "outputs": [
    {
     "name": "stdout",
     "output_type": "stream",
     "text": [
      "No such file found!\n"
     ]
    }
   ],
   "source": [
    "try:\n",
    "    with open(\"abcd.txt\",'r') as var:\n",
    "        print(var.read())\n",
    "except FileNotFoundError:\n",
    "    print(\"No such file found!\")"
   ]
  },
  {
   "cell_type": "code",
   "execution_count": null,
   "id": "9da6e2ba",
   "metadata": {},
   "outputs": [
    {
     "name": "stdout",
     "output_type": "stream",
     "text": [
      "5.15.1\n"
     ]
    }
   ],
   "source": []
  },
  {
   "cell_type": "code",
   "execution_count": null,
   "id": "a86e77f0",
   "metadata": {},
   "outputs": [],
   "source": []
  }
 ],
 "metadata": {
  "kernelspec": {
   "display_name": "Python 3",
   "language": "python",
   "name": "python3"
  },
  "language_info": {
   "codemirror_mode": {
    "name": "ipython",
    "version": 3
   },
   "file_extension": ".py",
   "mimetype": "text/x-python",
   "name": "python",
   "nbconvert_exporter": "python",
   "pygments_lexer": "ipython3",
   "version": "3.13.1"
  }
 },
 "nbformat": 4,
 "nbformat_minor": 5
}
